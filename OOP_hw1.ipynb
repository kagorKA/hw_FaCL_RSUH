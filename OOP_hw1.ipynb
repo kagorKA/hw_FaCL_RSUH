{
  "cells": [
    {
      "cell_type": "markdown",
      "metadata": {},
      "source": [
        "# Задача 1.\n",
        "\n",
        "Напишем игру \"ферма\". Наш игрок - экземпляр класса \"фермер\", у которого есть имя, стартовая сумма денег и объект класса \"ферма\". У объекта класса \"ферма\" есть жилплощадь (для самого фермера), а также могут быть поле для картошки, например (с площадью), огород под огурцы, постройки для домашних животных (с вместимостью). Наш фермер может покупать семена и животных, собирать урожай и взаимодействовать с животными (коров можно доить, свиней можно зарезать и продать мясо). Игра консольная, поэтому придется выводить нужную информацию через запросы игрока (игрок может захотеть знать, сколько у него есть животных, какие у него есть огороды-поля и так далее).\n",
        "\n",
        "Опять же, фантазия приветствуется. :)"
      ]
    },
    {
      "cell_type": "code",
      "execution_count": 96,
      "metadata": {},
      "outputs": [],
      "source": [
        "from time import sleep\n",
        "\n",
        "cheap_plnt = ['капуста', 'картошка', 'морковь', 'редька', 'яблоки']\n",
        "expensive_plnt = ['огурцы', 'помидоры', 'груши', 'бананы', 'апельсины', 'перцы', 'кабачки']\n",
        "milk_flesh = ['коровы', 'свиньи']\n",
        "\n",
        "class Farmer:\n",
        "  def __init__(self, name, stamina=50, budget=50, seeds=dict(), store_jar=[], store_hue=[], working=0, egg=0, meat=[]):\n",
        "    self.name = name\n",
        "    self.stamina = stamina\n",
        "    self.budget = budget\n",
        "    self.seeds = seeds\n",
        "    self.store_jar = store_jar\n",
        "    self.store_hue = store_hue\n",
        "    self.working = working\n",
        "    self.egg = egg\n",
        "    self.meat = meat\n",
        "\n",
        "  def sleeping(self):\n",
        "    if self.working == 0:\n",
        "      return f'Вы еще не ухаживали за фермой, рано спать'\n",
        "    else:\n",
        "      sleep(5)\n",
        "      self.working = 0\n",
        "      self.stamina += 100\n",
        "\n",
        "class Farm(Farmer):\n",
        "  def __init__(self, name, stamina=50, budget=50, seeds=dict(), store_jar=[], store_hue=[], working=0, egg=0, meat=[], \n",
        "               jardin=dict(), jar_elem=dict.fromkeys(range(1, 25), 0), huerto=dict(), hue_elem=dict.fromkeys(range(1, 25), 0),\n",
        "               birds=dict.fromkeys(range(1, 10), 0), mu_oink=dict(), muoink_elem=dict.fromkeys(range(1, 10), 0),\n",
        "               b_grow=0, k_grow=0):\n",
        "    super().__init__(name, stamina, budget, seeds, store_jar, store_hue, working, egg, meat)\n",
        "    self.jardin = jardin\n",
        "    self.jar_elem = jar_elem\n",
        "    self.huerto = huerto\n",
        "    self.hue_elem = hue_elem\n",
        "    self.birds = birds\n",
        "    self.mu_oink = mu_oink\n",
        "    self.muoink_elem = muoink_elem\n",
        "    self.b_grow = b_grow\n",
        "    self.k_grow = k_grow\n",
        "\n",
        "  def __str__(self):\n",
        "    return f'Имя фермера: {self.name}\\nБюджет: {self.budget}\\nСемена: {self.seeds}\\nФрукты и ягоды, грядки: {self.jardin}\\nОвощи, грядки: {self.huerto}\\nФрукты и ягоды на продажу: {self.store_jar}\\nОвощи на продажу: {self.store_hue}\\nКурицы: {sum(self.birds.values())}\\nКоровы и свиньи: {self.mu_oink}\\nЯйца: {self.egg}\\nМясо: {self.meat}'\n",
        "\n",
        "  def __repr__(self):\n",
        "    return f'Farmer(\"{self.name}\")'\n",
        "\n",
        "  def buy_seeds(self):\n",
        "    if self.stamina == 0:\n",
        "      return f'Вы слишком устали и не можете работать, вам надо поспать'\n",
        "    else:\n",
        "      self.stamina -= 5\n",
        "      self.working += 1\n",
        "      x = input('Какие семена вы хотите купить: ')\n",
        "      y = int(input('Сколько семян: '))\n",
        "      if (x in cheap_plnt and self.budget - y < 0) or (x in expensive_plnt and self.budget - (y * 2) < 0) or ((x not in expensive_plnt and x not in cheap_plnt) and self.budget - (y * 3) < 0):\n",
        "        return 'У вас недостаточно денег'\n",
        "      else:\n",
        "        if x not in self.seeds:\n",
        "          self.seeds.setdefault(x, y)\n",
        "        else:\n",
        "          self.seeds[x] += y\n",
        "        if x in cheap_plnt:\n",
        "          self.budget -= y\n",
        "        elif x in expensive_plnt:\n",
        "          self.budget -= (y * 2)\n",
        "        elif x not in cheap_plnt and x not in expensive_plnt:\n",
        "          self.budget -= (y * 3)\n",
        "  \n",
        "  def plant_jar(self):\n",
        "    if self.stamina == 0:\n",
        "      return f'Вы слишком устали и не можете работать, вам надо поспать'\n",
        "    else:\n",
        "      self.stamina -= 5\n",
        "      self.working += 1\n",
        "      x = input('Что вы хотите посадить: ')\n",
        "      if x in self.seeds and self.seeds[x] != 0:\n",
        "        if sum(self.jar_elem.values()) == 25:\n",
        "          return f'Все грядки заняты'\n",
        "        else:\n",
        "          h = 1\n",
        "          while self.jar_elem[h] != 0:\n",
        "            h += 1\n",
        "          if x not in self.jardin:\n",
        "            self.jardin.setdefault(x, [h])\n",
        "          else:\n",
        "            self.jardin[x].append(h)\n",
        "          self.jar_elem[h] = 1\n",
        "      else:\n",
        "        self.stamina += 5\n",
        "        self.working -= 1\n",
        "        return f'У вас нет семян {x}'\n",
        "\n",
        "  def plant_hue(self):\n",
        "    if self.stamina == 0:\n",
        "      return f'Вы слишком устали и не можете работать, вам надо поспать'\n",
        "    else:\n",
        "      self.stamina -= 5\n",
        "      self.working += 1\n",
        "      x = input('Что вы хотите посадить: ')\n",
        "      if x in self.seeds and self.seeds[x] != 0:\n",
        "        if sum(self.hue_elem.values()) == 25:\n",
        "          return f'Все грядки заняты'\n",
        "        else:\n",
        "          h = 1\n",
        "          while self.hue_elem[h] != 0:\n",
        "            h += 1\n",
        "          if x not in self.huerto:\n",
        "            self.huerto.setdefault(x, [h])\n",
        "          else:\n",
        "            self.huerto[x].append(h)\n",
        "          self.hue_elem[h] = 1\n",
        "      else:\n",
        "        self.stamina += 5\n",
        "        self.working -= 1\n",
        "        return f'У вас нет семян {x}'\n",
        "\n",
        "  def feed_huerto(self):\n",
        "    if self.stamina == 0:\n",
        "      return f'Вы слишком устали и не можете работать, вам надо поспать'\n",
        "    else:\n",
        "      self.stamina -= 5\n",
        "      self.working += 1\n",
        "      for k, v in self.hue_elem.items():\n",
        "        if v < 3:\n",
        "          self.hue_elem[k] = v + 1\n",
        "      if 3 in self.hue_elem.values():\n",
        "        return f'У вас есть грядки с созревшими овощами. Соберите урожай'\n",
        "\n",
        "  def feed_jardin(self):\n",
        "    if self.stamina == 0:\n",
        "      return f'Вы слишком устали и не можете работать, вам надо поспать'\n",
        "    else:\n",
        "      self.stamina -= 5\n",
        "      self.working += 1\n",
        "      for k, v in self.jar_elem.items():\n",
        "        if v < 3:\n",
        "          self.jar_elem[k] = v + 1\n",
        "      if 3 in self.jar_elem.values():\n",
        "        return f'У вас есть грядки с созревшими фруктами. Соберите урожай'\n",
        "\n",
        "  def harvest_jar(self):\n",
        "    if self.stamina == 0:\n",
        "      return f'Вы слишком устали и не можете работать, вам надо поспать'\n",
        "    else:\n",
        "      self.stamina -= 5\n",
        "      self.working += 1\n",
        "      l = []\n",
        "      for k in self.jar_elem.keys():\n",
        "        if self.jar_elem[k] == 3:\n",
        "          l.append(k)\n",
        "      for k, v in self.jardin.items():\n",
        "        for x in v:\n",
        "          if x in l:\n",
        "            self.store_jar.append(k)\n",
        "      while l != []:\n",
        "        for k, v in self.jardin.items():\n",
        "          for x in v:\n",
        "            if x in l:\n",
        "              self.jardin[k].remove(x)\n",
        "              l.remove(x)\n",
        "      return f'Вы собрали урожай фруктов. Поздравляем. Теперь их можно выставить на продажу'\n",
        "\n",
        "  def harvest_hue(self):\n",
        "    if self.stamina == 0:\n",
        "      return f'Вы слишком устали и не можете работать, вам надо поспать'\n",
        "    else:\n",
        "      self.stamina -= 5\n",
        "      self.working += 1\n",
        "      l = []\n",
        "      for k in self.hue_elem.keys():\n",
        "        if self.hue_elem[k] == 3:\n",
        "          l.append(k)\n",
        "      for k, v in self.huerto.items():\n",
        "        for x in v:\n",
        "          if x in l:\n",
        "            self.store_hue.append(k)\n",
        "      while l != []:\n",
        "        for k, v in self.huerto.items():\n",
        "          for x in v:\n",
        "            if x in l:\n",
        "              self.huerto[k].remove(x)\n",
        "              l.remove(x)\n",
        "      return f'Вы собрали урожай овощей. Поздравляем. Теперь их можно выставить на продажу'\n",
        "\n",
        "  def buy_animal(self):\n",
        "    if self.stamina == 0:\n",
        "      return f'Вы слишком устали и не можете работать, вам надо поспать'\n",
        "    else:\n",
        "      self.stamina -= 5\n",
        "      self.working += 1\n",
        "      x = input('Кого вы хотите купить? ')\n",
        "      if x != 'курицы' and x not in milk_flesh:\n",
        "        return f'Такие животные не продаются'\n",
        "      elif x == 'курицы':\n",
        "        y = int(input('Сколько: '))\n",
        "        if y > 10 or sum(self.birds.values()) + y > 10:\n",
        "          return f'У вас недостаточно места в птичнике'\n",
        "        else:\n",
        "          if self.budget - y * 10 < 0:\n",
        "            return f'У вас недостаточно денег'\n",
        "          else:\n",
        "           self.budget -= y * 10\n",
        "           for k, v in self.birds.items():\n",
        "            if self.birds[k] == 0 and y != 0:\n",
        "              self.birds[k] += 1\n",
        "              y -= 1\n",
        "      elif x in milk_flesh:\n",
        "        y = int(input('Сколько: '))\n",
        "        if y > 10 or sum(self.muoink_elem.values()) + y > 10:\n",
        "          return f'У вас недостаточно места в хлеву'\n",
        "        else:\n",
        "          if self.budget - y * 20 < 0:\n",
        "            return f'У вас недостаточно денег'\n",
        "          else:\n",
        "            self.budget -= y * 20\n",
        "            while y != 0:\n",
        "              h = 1\n",
        "              while self.muoink_elem[h] != 0:\n",
        "                h += 1\n",
        "              if x not in self.mu_oink:\n",
        "                self.mu_oink.setdefault(x, [h])\n",
        "              else:\n",
        "                self.mu_oink[x].append(h)\n",
        "              self.muoink_elem[h] = 1\n",
        "              y -= 1\n",
        "\n",
        "  def feed_bird(self):\n",
        "    if self.stamina == 0:\n",
        "      return f'Вы слишком устали и не можете работать, вам надо поспать'\n",
        "    else:\n",
        "      self.stamina -= 5\n",
        "      self.working += 1\n",
        "      self.b_grow += 1\n",
        "      if self.b_grow == 3:\n",
        "        for k, v in self.birds:\n",
        "          self.birds[k] = (v + 1)\n",
        "        l = []\n",
        "        for k in self.birds.keys():\n",
        "          if self.birds[k] == 10:\n",
        "            l.append(k)\n",
        "        if l != []:\n",
        "          return f'Часть ваших птиц умерло от старости'\n",
        "        while l != []:\n",
        "          for k, v in self.birds.items():\n",
        "            for x in v:\n",
        "              if x in l:\n",
        "                self.birds[k].remove(x)\n",
        "                l.remove(x)\n",
        "        self.b_grow = 0\n",
        "\n",
        "  def feed_kattle(self):\n",
        "    if self.stamina == 0:\n",
        "      return f'Вы слишком устали и не можете работать, вам надо поспать'\n",
        "    else:\n",
        "      self.stamina -= 5\n",
        "      self.working += 1\n",
        "      self.k_grow += 1\n",
        "      if self.k_grow == 3:\n",
        "        for k, v in self.muoink_elem:\n",
        "          self.muoink_elem[k] = (v + 1)\n",
        "        l = []\n",
        "        for k in self.muoink_elem.keys():\n",
        "          if self.muoink_elem[k] == 12:\n",
        "            l.append(k)\n",
        "        if l != []:\n",
        "          return f'Часть ваших коров и свинок умерло от старости'\n",
        "        while l != []:\n",
        "          for k, v in self.mu_oink.items():\n",
        "            for x in v:\n",
        "              if x in l:\n",
        "                self.mu_oink[k].remove(x)\n",
        "                l.remove(x)\n",
        "        self.k_grow = 0\n",
        "\n",
        "  def eggs(self):\n",
        "    if self.stamina == 0:\n",
        "      return f'Вы слишком устали и не можете работать, вам надо поспать'\n",
        "    else:\n",
        "      self.stamina -= 5\n",
        "      self.working += 1\n",
        "      if 5 not in self.birds.values():\n",
        "        return f'Ваши птицы еще не подросли достаточно для того, чтобы нести яйца'\n",
        "      else:\n",
        "        for k in self.birds.keys():\n",
        "          if self.birds[k] > 5:\n",
        "            self.egg += 1\n",
        "        return f'Вы собрали яйца. Поздравляем. Теперь их можно выставить на продажу'\n",
        "\n",
        "  def kill(self, who):\n",
        "    if self.stamina == 0:\n",
        "      return f'Вы слишком устали и не можете работать, вам надо поспать'\n",
        "    else:\n",
        "      self.stamina -= 5\n",
        "      self.working += 1\n",
        "      if 6 not in self.muoink_elem.values():\n",
        "        return f'У вас в хлеву только поросята и телята, их нельзя резать'\n",
        "      else:\n",
        "        if who == 'коровы':\n",
        "          l = []\n",
        "          for k, v in self.muoink_elem.items():\n",
        "            if self.muoink_elem[k] > 6 and k in self.mu_oink['коровы']:\n",
        "              l.append(k)\n",
        "          self.meat += len(l)\n",
        "          while l != []:\n",
        "            for k, v in self.mu_oink.items():\n",
        "              for x in v:\n",
        "                if x in l:\n",
        "                  self.mu_oink[k].remove(x)\n",
        "                  l.remove(x)\n",
        "        elif who == 'свиньи':\n",
        "          l = []\n",
        "          for k, v in self.muoink_elem.items():\n",
        "            if self.muoink_elem[k] > 6 and k in self.mu_oink['свиньи']:\n",
        "              l.append(k)\n",
        "          self.meat += len(l)\n",
        "          while l != []:\n",
        "            for k, v in self.mu_oink.items():\n",
        "              for x in v:\n",
        "                if x in l:\n",
        "                  self.mu_oink[k].remove(x)\n",
        "                  l.remove(x)\n",
        "      return f'У вас есть свежее мясо на продажу. Поздравляем'\n",
        "\n",
        "  def milk(self):\n",
        "    if self.stamina == 0:\n",
        "      return f'Вы слишком устали и не можете работать, вам надо поспать'\n",
        "    else:\n",
        "      self.stamina -= 5\n",
        "      self.working += 1\n",
        "      l = []\n",
        "      for k, v in self.muoink_elem.items():\n",
        "        if k in self.mu_oink['коровы'] and self.muoink_elem[k] > 5:\n",
        "          l.append(k)\n",
        "      if len(l) > 0:\n",
        "        self.milk += len(l)\n",
        "        return f'Вы подоили одну или более коров'\n",
        "      else:\n",
        "        return f'Ваши коровы пока еще телята, их не подоить'  \n",
        "    \n",
        "  def sell(self, product, kolvo):\n",
        "    if self.stamina == 0:\n",
        "      return f'Вы слишком устали и не можете работать, вам надо поспать'\n",
        "    else:\n",
        "      self.stamina -= 5\n",
        "      self.working += 1\n",
        "      if product in cheap_plnt:\n",
        "        if product in self.store_hue:\n",
        "          while kolvo != 0:\n",
        "            self.store_hue.remove(product)\n",
        "            self.budget += 2\n",
        "            kolvo -= 1\n",
        "        elif product in self.store_jar:\n",
        "          while kolvo != 0:\n",
        "            self.store_jar.remove(product)\n",
        "            self.budget += 2\n",
        "            kolvo -= 1\n",
        "      elif product in expensive_plnt:\n",
        "        if product in self.store_hue:\n",
        "          while kolvo != 0:\n",
        "            self.store_hue.remove(product)\n",
        "            self.budget += 3\n",
        "            kolvo -= 1\n",
        "        elif product in self.store_jar:\n",
        "          while kolvo != 0:\n",
        "            self.store_jar.remove(product)\n",
        "            self.budget += 3\n",
        "            kolvo -= 1\n",
        "      elif (product not in cheap_plnt) and (product not in expensive_plnt):\n",
        "        if product in self.store_hue:\n",
        "          while kolvo != 0:\n",
        "            self.store_hue.remove(product)\n",
        "            self.budget += 4\n",
        "            kolvo -= 1\n",
        "        elif product in self.store_jar:\n",
        "          while kolvo != 0:\n",
        "            self.store_jar.remove(product)\n",
        "            self.budget += 4\n",
        "            kolvo -= 1\n",
        "      elif product == 'яйца':\n",
        "        self.eggs -= kolvo\n",
        "        self.budget += 3 * kolvo\n",
        "      elif product == 'свинина':\n",
        "        self.budget -= 4 * kolvo\n",
        "        while kolvo != 0:\n",
        "          self.meat.remove('свиньи')\n",
        "      elif product == 'говядина':\n",
        "        self.budget -= 5 * kolvo\n",
        "        while kolvo != 0:\n",
        "          self.meat.remove('коровы')\n",
        "      elif product == 'молоко':\n",
        "        self.milk -= kolvo\n",
        "        self.budget -= 3 * kolvo\n",
        "\n",
        "  def find(self, what):\n",
        "    if what in self.birds:\n",
        "      return f'У вас {len(self.birds)} куриц'\n",
        "    elif what == 'яйца':\n",
        "      return f'У вас {self.egg} десятков яиц'\n",
        "    elif what in self.milk:\n",
        "      return f'У вас {self.milk} литров молока'\n",
        "    elif what in self.meat:\n",
        "      g = dict()\n",
        "      for x in self.meat:\n",
        "        if x not in g:\n",
        "          g.setdefault(x, 1)\n",
        "        else:\n",
        "          g[x] += 1\n",
        "      return f\"У вас {g['коровы']} кг телятины и {g['свиньи']} кг свинины\"\n",
        "    else:\n",
        "      x = int(input('Семена - введите 1, овощные грядки - введите 2, фруктовые грядки - введите 3, овощной склад - введите 4, фруктовый склад - введите 5 '))\n",
        "      if x == 1:\n",
        "        return [print(f'{k}: {v}') for k, v in self.seeds]\n",
        "      elif x == 2:\n",
        "        return [print(f'{k}: {v}') for k, v in self.huerto]\n",
        "      elif x == 3:\n",
        "        return [print(f'{k}: {v}') for k, v in self.jardin]\n",
        "      elif x == 4:\n",
        "        g = dict()\n",
        "        for x in self.store_hue:\n",
        "          if x not in g:\n",
        "            g.setdefault(x, 1)\n",
        "          else:\n",
        "            g[x] += 1\n",
        "        return  [print(f'{k}: {v}') for k, v in g]\n",
        "      elif x == 5:\n",
        "        g = dict()\n",
        "        for x in self.store_jar:\n",
        "          if x not in g:\n",
        "            g.setdefault(x, 1)\n",
        "          else:\n",
        "            g[x] += 1\n",
        "        return  [print(f'{k}: {v}') for k, v in g]"
      ]
    },
    {
      "cell_type": "code",
      "execution_count": 97,
      "metadata": {},
      "outputs": [],
      "source": [
        "e = Farm('Donny')"
      ]
    },
    {
      "cell_type": "code",
      "execution_count": 98,
      "metadata": {},
      "outputs": [
        {
          "name": "stdout",
          "output_type": "stream",
          "text": [
            "Имя фермера: Donny\n",
            "Бюджет: 50\n",
            "Семена: {}\n",
            "Фрукты и ягоды, грядки: {}\n",
            "Овощи, грядки: {}\n",
            "Фрукты и ягоды на продажу: []\n",
            "Овощи на продажу: []\n",
            "Курицы: 0\n",
            "Коровы и свиньи: {}\n",
            "Яйца: 0\n",
            "Мясо: []\n"
          ]
        }
      ],
      "source": [
        "print(e)"
      ]
    },
    {
      "cell_type": "markdown",
      "metadata": {},
      "source": [
        "Покупаем семена огурцов"
      ]
    },
    {
      "cell_type": "code",
      "execution_count": 99,
      "metadata": {},
      "outputs": [],
      "source": [
        "e.buy_seeds()"
      ]
    },
    {
      "cell_type": "markdown",
      "metadata": {},
      "source": [
        "Сажаем два семечка"
      ]
    },
    {
      "cell_type": "code",
      "execution_count": 101,
      "metadata": {},
      "outputs": [],
      "source": [
        "e.plant_hue()"
      ]
    },
    {
      "cell_type": "markdown",
      "metadata": {},
      "source": [
        "Пытаемся посадить помидоры, но таких семян у нас нет"
      ]
    },
    {
      "cell_type": "code",
      "execution_count": 102,
      "metadata": {},
      "outputs": [
        {
          "data": {
            "text/plain": [
              "'У вас нет семян помидоры'"
            ]
          },
          "execution_count": 102,
          "metadata": {},
          "output_type": "execute_result"
        }
      ],
      "source": [
        "e.plant_hue()"
      ]
    },
    {
      "cell_type": "markdown",
      "metadata": {},
      "source": [
        "Поливаем огуры"
      ]
    },
    {
      "cell_type": "code",
      "execution_count": 104,
      "metadata": {},
      "outputs": [
        {
          "data": {
            "text/plain": [
              "'У вас есть грядки с созревшими овощами. Соберите урожай'"
            ]
          },
          "execution_count": 104,
          "metadata": {},
          "output_type": "execute_result"
        }
      ],
      "source": [
        "e.feed_huerto()"
      ]
    },
    {
      "cell_type": "markdown",
      "metadata": {},
      "source": [
        "Собираем урожай"
      ]
    },
    {
      "cell_type": "code",
      "execution_count": 105,
      "metadata": {},
      "outputs": [
        {
          "data": {
            "text/plain": [
              "'Вы собрали урожай овощей. Поздравляем. Теперь их можно выставить на продажу'"
            ]
          },
          "execution_count": 105,
          "metadata": {},
          "output_type": "execute_result"
        }
      ],
      "source": [
        "e.harvest_hue()"
      ]
    },
    {
      "cell_type": "markdown",
      "metadata": {},
      "source": [
        "Покупаем куриц"
      ]
    },
    {
      "cell_type": "code",
      "execution_count": 106,
      "metadata": {},
      "outputs": [],
      "source": [
        "e.buy_animal()"
      ]
    },
    {
      "cell_type": "markdown",
      "metadata": {},
      "source": [
        "Кормим куриц"
      ]
    },
    {
      "cell_type": "code",
      "execution_count": 107,
      "metadata": {},
      "outputs": [],
      "source": [
        "e.feed_bird()"
      ]
    },
    {
      "cell_type": "markdown",
      "metadata": {},
      "source": [
        "Покупаем еще семена персиков. Этих фруктов нет в списках продуктов, так что они пойдут по высокой цене"
      ]
    },
    {
      "cell_type": "code",
      "execution_count": 108,
      "metadata": {},
      "outputs": [],
      "source": [
        "e.buy_seeds()"
      ]
    },
    {
      "cell_type": "markdown",
      "metadata": {},
      "source": [
        "Сажаем их"
      ]
    },
    {
      "cell_type": "code",
      "execution_count": 110,
      "metadata": {},
      "outputs": [
        {
          "data": {
            "text/plain": [
              "'Вы слишком устали и не можете работать, вам надо поспать'"
            ]
          },
          "execution_count": 110,
          "metadata": {},
          "output_type": "execute_result"
        }
      ],
      "source": [
        "e.plant_jar()"
      ]
    },
    {
      "cell_type": "markdown",
      "metadata": {},
      "source": [
        "Идем спать"
      ]
    },
    {
      "cell_type": "code",
      "execution_count": 111,
      "metadata": {},
      "outputs": [],
      "source": [
        "e.sleeping()"
      ]
    },
    {
      "cell_type": "markdown",
      "metadata": {},
      "source": [
        "Пытаемся собрать яйца, но пока курицы слишком маленькие"
      ]
    },
    {
      "cell_type": "code",
      "execution_count": 112,
      "metadata": {},
      "outputs": [
        {
          "data": {
            "text/plain": [
              "'Ваши птицы еще не подросли достаточно для того, чтобы нести яйца'"
            ]
          },
          "execution_count": 112,
          "metadata": {},
          "output_type": "execute_result"
        }
      ],
      "source": [
        "e.eggs()"
      ]
    },
    {
      "cell_type": "markdown",
      "metadata": {},
      "source": [
        "Продаем огурцы"
      ]
    },
    {
      "cell_type": "code",
      "execution_count": 113,
      "metadata": {},
      "outputs": [],
      "source": [
        "e.sell('огурцы', 2)"
      ]
    },
    {
      "cell_type": "markdown",
      "metadata": {},
      "source": [
        "Покупаем корову"
      ]
    },
    {
      "cell_type": "code",
      "execution_count": 114,
      "metadata": {},
      "outputs": [],
      "source": [
        "e.buy_animal()"
      ]
    },
    {
      "cell_type": "markdown",
      "metadata": {},
      "source": [
        "Теперь в информации появились новые продукты"
      ]
    },
    {
      "cell_type": "code",
      "execution_count": 116,
      "metadata": {},
      "outputs": [
        {
          "name": "stdout",
          "output_type": "stream",
          "text": [
            "Имя фермера: Donny\n",
            "Бюджет: 6\n",
            "Семена: {'огурцы': 2, 'персики': 2}\n",
            "Фрукты и ягоды, грядки: {'персики': [1]}\n",
            "Овощи, грядки: {'огурцы': []}\n",
            "Фрукты и ягоды на продажу: []\n",
            "Овощи на продажу: []\n",
            "Курицы: 2\n",
            "Коровы и свиньи: {'коровы': [1]}\n",
            "Яйца: 0\n",
            "Мясо: []\n"
          ]
        }
      ],
      "source": [
        "print(e)"
      ]
    }
  ],
  "metadata": {
    "colab": {
      "provenance": []
    },
    "kernelspec": {
      "display_name": "Python 3",
      "name": "python3"
    },
    "language_info": {
      "codemirror_mode": {
        "name": "ipython",
        "version": 3
      },
      "file_extension": ".py",
      "mimetype": "text/x-python",
      "name": "python",
      "nbconvert_exporter": "python",
      "pygments_lexer": "ipython3",
      "version": "3.9.13"
    }
  },
  "nbformat": 4,
  "nbformat_minor": 0
}
