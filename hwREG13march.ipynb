{
 "cells": [
  {
   "attachments": {},
   "cell_type": "markdown",
   "metadata": {},
   "source": [
    "Домашняя работа регулярные выражения\n",
    "\n",
    "Задача 1.\n",
    "\n",
    "Найдите в тексте все вхождения слова Python в любом регистре (и заборчиком тоже). Ответьте на вопрос: нужна ли для этого вообще регулярка?"
   ]
  },
  {
   "cell_type": "code",
   "execution_count": null,
   "metadata": {},
   "outputs": [],
   "source": [
    "import re\n",
    "\n",
    "re.findall(r'python', 'Python PyThOn python PYTHON', flags=re.I)\n",
    "\n",
    "#способ решения без регулярного выражения\n",
    "mytext = 'Python PyThOn python PYTHON pYTHON'\n",
    "for i in mytext.split():\n",
    "  if i.lower() == 'python':\n",
    "    print(i)"
   ]
  },
  {
   "attachments": {},
   "cell_type": "markdown",
   "metadata": {},
   "source": [
    "Задача 2.\n",
    "\n",
    "Найдите в тексте все вхождения слов \"мама\" и \"папа\" с помощью одного регулярного выражения.\n",
    "\n"
   ]
  },
  {
   "cell_type": "code",
   "execution_count": null,
   "metadata": {},
   "outputs": [],
   "source": [
    "mampap = re.finditer(r'(мам|пап)(\\b|(а|ы|е|у|ой|ам|ами|ах)\\b)', 'папа мама мамой мамы пап папы МАМУ папами о мамах', flags=re.I)\n",
    "for i in mampap:\n",
    "  print(i.group())"
   ]
  },
  {
   "attachments": {},
   "cell_type": "markdown",
   "metadata": {},
   "source": [
    "Задача 3.\n",
    "\n",
    "Найдите в тексте все словоформы для леммы \"кошка\" (кошку, кошек, кошками...)\n",
    "\n"
   ]
  },
  {
   "cell_type": "code",
   "execution_count": null,
   "metadata": {},
   "outputs": [],
   "source": [
    "re.findall(r'кошек|кошка|кошкой|кошки|кошке|кошками|кошку|кошкой|кошкою|кошками|кошках', 'кошек кошка кошкой', flags=re.I)"
   ]
  },
  {
   "attachments": {},
   "cell_type": "markdown",
   "metadata": {},
   "source": [
    "Задача 4.\n",
    "\n",
    "Найдите в тексте все арабские числа (цифр может быть сколько угодно)\n",
    "\n"
   ]
  },
  {
   "cell_type": "code",
   "execution_count": null,
   "metadata": {},
   "outputs": [],
   "source": [
    "#если мы в том числе хотим найти числа с десятичной дробью\n",
    "re.findall(r'(?:\\d+(?:\\.|,)\\d+)|(?:\\d+)', \"Позже, в 1870-х годах число 8,759123... . Округлить\")"
   ]
  },
  {
   "attachments": {},
   "cell_type": "markdown",
   "metadata": {},
   "source": [
    "Задача 5.\n",
    "\n",
    "Найдите в тексте все смайлики вида :), :(, :-), :-(."
   ]
  },
  {
   "cell_type": "code",
   "execution_count": null,
   "metadata": {},
   "outputs": [],
   "source": [
    "re.findall(r':(?:-(?:\\)|\\()|(?:\\)|\\())', 'смайлики вида :), :(, :-), :-(.')"
   ]
  },
  {
   "attachments": {},
   "cell_type": "markdown",
   "metadata": {},
   "source": [
    "Задача 6.\n",
    "\n",
    "Найдите в тексте все вхождения слова \"тоже\", но такие, чтобы не попались контексты \"тоже мне...\"."
   ]
  },
  {
   "cell_type": "code",
   "execution_count": null,
   "metadata": {},
   "outputs": [],
   "source": [
    "re.findall(r'тоже(?!\\sмне)', 'тоже не тоже мне', flags=re.I)"
   ]
  },
  {
   "attachments": {},
   "cell_type": "markdown",
   "metadata": {},
   "source": [
    "Задача 7.\n",
    "\n",
    "Найдите в тексте все словоформы для леммы \"точка\", но таким образом, чтобы \"цветочек\" и \"деточка\" нас не устраивали.\n",
    "\n"
   ]
  },
  {
   "cell_type": "code",
   "execution_count": null,
   "metadata": {},
   "outputs": [],
   "source": [
    "re.findall(r'\\bточ(?:ка|ки|ек|ке|кам|ку|кой|кою|ками|ках)', 'точка точек но не цветочек и деточка', flags=re.I)"
   ]
  },
  {
   "attachments": {},
   "cell_type": "markdown",
   "metadata": {},
   "source": [
    "Задача 8.\n",
    "\n",
    "Найдите в тексте все вариации мема \"ну ... и ...\" (то есть, вместо ... любое повторяющееся слово: ну питон и питон, ну регулярка и регулярка)"
   ]
  },
  {
   "cell_type": "code",
   "execution_count": null,
   "metadata": {},
   "outputs": [],
   "source": [
    "nui = re.finditer(r'ну\\W(\\w+)\\Wи\\W(?=\\1)(\\w+)\\b', 'вместо ... любое повторяющееся слово: ну питон и питон, ну регулярка и регулярка)', flags=re.I)\n",
    "for u in nui:\n",
    "  print(u.group())"
   ]
  },
  {
   "attachments": {},
   "cell_type": "markdown",
   "metadata": {},
   "source": [
    "Задача 9.\n",
    "\n",
    "Найдите в тексте все содержимое скобок. В тексте могут быть вложенные скобки. В таком случае мы ищем только содержимое внутренних скобок.\n",
    "\n",
    "Ответ:\n",
    "(?<=\\()[^()]+(?=\\))"
   ]
  },
  {
   "attachments": {},
   "cell_type": "markdown",
   "metadata": {},
   "source": [
    "Задача 10.\n",
    "\n",
    "Найдите в тексте все слова, которые начинаются с заглавной буквы и состоят при этом из строчных, но не находятся в начале строки.\n",
    "\n",
    "Ответ: (?<!^)[А-ЯA-Z]\\w+\\b"
   ]
  },
  {
   "attachments": {},
   "cell_type": "markdown",
   "metadata": {},
   "source": [
    "Задача 11.\n",
    "\n",
    "Найти в тексте все смайлики вида ^_^, *_*, T_T. Осторожнее: смайлики вида ^_* нам не нужны!\n",
    "\n",
    "Ответ: (.)_(?=\\1)(.)"
   ]
  },
  {
   "attachments": {},
   "cell_type": "markdown",
   "metadata": {},
   "source": [
    "Задача 12.\n",
    "\n",
    "Найти в тексте все употребления слов \"понравилось\" и \"впечатлило\" такие, что непосредственно перед ними НЕ стоит \"не\". Время прошедшее, но род/число могут быть любыми.\n",
    "\n",
    "Ответ: (?<!не )(понравил(ось|ся|ась|ись)|впечатли(л|ли|ла|ло))"
   ]
  },
  {
   "attachments": {},
   "cell_type": "markdown",
   "metadata": {},
   "source": [
    "Задача 13.\n",
    "\n",
    "У нас есть (любой) текст, в котором встречаются целые числа. Числа могут быть отрицательными, тогда между минусом и числом нет никакого другого знака. Напишите программу, которая все числа увеличит на единицу (причем 34 должно превратиться в 35, а -34 - в -33). Нельзя пользоваться циклами!"
   ]
  },
  {
   "cell_type": "code",
   "execution_count": null,
   "metadata": {},
   "outputs": [],
   "source": [
    "def plusone(chislo):\n",
    "  return str(int(chislo.group()) + 1)\n",
    "re.sub(r'(-\\d+|\\d+)', plusone, '-34, 34 6 -687')"
   ]
  },
  {
   "attachments": {},
   "cell_type": "markdown",
   "metadata": {},
   "source": [
    "Задача 14.\n",
    "\n",
    "Напишите самый простой токенизатор: он должен захватывать стандартные знаки препинания, русские и английские слова (символы с диакритиками не берем в расчет), причем таким образом, чтобы каждому токену еще приписывалась его категория: пунктуация, кириллическое или английское слово. Дополнительные два балла можно получить, если напишете этот токенизатор в классах (один класс для самого токенизатора, у которого будет метод tokenize, и еще один вспомогательный класс для токенов)."
   ]
  },
  {
   "cell_type": "code",
   "execution_count": null,
   "metadata": {},
   "outputs": [],
   "source": [
    "angl = re.compile(r'[a-z]+', flags=re.I)\n",
    "rus = re.compile(r'[а-яё]+', flags=re.I)\n",
    "punkt = re.compile(r'[.,-:;()?!\"\\']+')\n",
    "class Tokenizer:\n",
    "  def __init__(self, text):\n",
    "        self.text = text\n",
    "        \n",
    "  def tokenize(self):\n",
    "    lst = re.split(r'\\b', self.text)\n",
    "    tokens = []\n",
    "    for i in list(lst):\n",
    "      if i != ' ' and i!= '':\n",
    "        if i.isalpha() == False and len(i) > 1:\n",
    "          if i[-1].isspace() == True:\n",
    "            tokens.append(i.strip())\n",
    "          else:\n",
    "            tokens.append(i.split()[0])\n",
    "            tokens.append(i.split()[-1])\n",
    "        else:\n",
    "          tokens.append(i)\n",
    "    tokenizedlist = []\n",
    "    for x in tokens:\n",
    "      tokenizedlist.append(Token(x))\n",
    "    return tokenizedlist\n",
    "\n",
    "class Token:\n",
    "  def __init__(self, tokenname, param='Punctual'):\n",
    "    self.tokenname = tokenname\n",
    "    self.param = param\n",
    "  def __str__(self):\n",
    "    if re.fullmatch(angl, self.tokenname):\n",
    "      self.param = 'English'\n",
    "      return f'Token {self.tokenname} is {self.param}'\n",
    "    elif re.fullmatch(rus, self.tokenname):\n",
    "      self.param = 'Russian'\n",
    "      return f'Token {self.tokenname} is {self.param}'\n",
    "    else:\n",
    "      self.param = 'Punctual'\n",
    "      return f'Token {self.tokenname} is {self.param}'\n",
    "  def __repr__(self):\n",
    "    if re.fullmatch(angl, self.tokenname):\n",
    "      self.param = 'English' \n",
    "      return f'Token \"{self.tokenname}\" - {self.param}'\n",
    "    elif re.fullmatch(rus, self.tokenname):\n",
    "      self.param = 'Russian'\n",
    "      return f'Token \"{self.tokenname}\" - {self.param}'\n",
    "    else:\n",
    "      return f'Token \"{self.tokenname}\" - {self.param}'"
   ]
  },
  {
   "attachments": {},
   "cell_type": "markdown",
   "metadata": {},
   "source": [
    "Прошу прощения, я поздно заметила, что у классных задач дедлайн 1.03, но все же прикреплю и их на всякий случай\n",
    "\n",
    "Задача 1.\n",
    "\n",
    "Найдите в тексте все телефонные номера. Номера могут быть в формате 0(000)00-00-00 или 0 000 00 00 00."
   ]
  },
  {
   "cell_type": "code",
   "execution_count": null,
   "metadata": {},
   "outputs": [],
   "source": [
    "regnomer = open('/content/checktext.txt', 'r+')\n",
    "regnomer2 = regnomer.read()\n",
    "re.findall('\\d\\(\\d{3}\\)\\d{2}-\\d{2}-\\d{2}' and '\\d.\\d{3}.\\d{2}.\\d{2}.\\d{2}', regnomer2)"
   ]
  },
  {
   "attachments": {},
   "cell_type": "markdown",
   "metadata": {},
   "source": [
    "\n",
    "Задача 2.\n",
    "\n",
    "Программа ждет, что пользователь введет адрес электронной почты. Предполагается, что адрес может содержать только латинские буквы, цифры и нижнее подчеркивание, обязательно содержит @ и имя домена через точку. Других точек в адресе нет. Программа должна проверять, что пользователь ввел именно такой адрес, и предупреждать, если что-то неладно. Используйте fullmatch."
   ]
  },
  {
   "cell_type": "code",
   "execution_count": null,
   "metadata": {},
   "outputs": [],
   "source": [
    "adresmila = input()\n",
    "while adresmila:\n",
    "  if re.fullmatch('[A-Za-z_]+@[A-Za-z_]+\\.[A-Za-z_]+', adresmila) == None:\n",
    "    print('Почтовый адрес введен неверно, попробуйте снова')\n",
    "    adresmila = input()\n",
    "  else:\n",
    "    print(f'Почтовый адрес: {adresmila}')\n",
    "    break"
   ]
  },
  {
   "attachments": {},
   "cell_type": "markdown",
   "metadata": {},
   "source": [
    "Задача 3.\n",
    "\n",
    "Цензура: в тексте встречается слово война и разные его вариации в падежах (и регистр тоже везде разный). Замените это слово по всему тексту на многоточие."
   ]
  },
  {
   "cell_type": "code",
   "execution_count": null,
   "metadata": {},
   "outputs": [],
   "source": [
    "def voina(matchob):\n",
    "  return matchob.group().replace(matchob.group()[:-1], '...')\n",
    "re.sub(r'(войн\\w{1,3}|войн)(\\W)', voina, 'была ВОЙНА ВОЙНЫ война? войн. вой войной! войнами войнушка войну воин войны были', flags=re.I)"
   ]
  },
  {
   "attachments": {},
   "cell_type": "markdown",
   "metadata": {},
   "source": [
    "Задача 4.\n",
    "\n",
    "В тексте встречаются нецелые числа (можно через запятую, можно через точку, а можете учесть оба варианта). Нужно все числа в тексте округлить до двух знаков после запятой(точки), причем не просто отрезать хвост: 2.467 должно превращаться в 2.47."
   ]
  },
  {
   "cell_type": "code",
   "execution_count": null,
   "metadata": {},
   "outputs": [],
   "source": [
    "def myfunc(matchobj): \n",
    "  return str(round(float(matchobj.group()), 2))\n",
    "re.sub(r'\\d+\\.\\d{3,}', myfunc, '2.345 8.7998 476.229 4 4.5')"
   ]
  },
  {
   "attachments": {},
   "cell_type": "markdown",
   "metadata": {},
   "source": [
    "Задача 5.\n",
    "\n",
    "Найти ценники в формате \"10000 руб. 00 коп.\", при этом:\n",
    "\"руб.\" и \"коп.\" не обязательно сокращены, кол-во копеек не может быть трёхзначным, кол-во рублей может быть нулевым, но не может быть некорректно записанным числом типа \"0123 рубля\""
   ]
  },
  {
   "cell_type": "code",
   "execution_count": null,
   "metadata": {},
   "outputs": [],
   "source": [
    "tsena = re.finditer(r'\\b[1-9]\\d+ (руб\\.|рублей|рубля|рубль) \\d{,2} (коп\\.|копеек|копейка|копейки)', '10000 руб. 00 коп. 0123 рубля 10000 рубля 00 коп. 10000 руб. 040 коп.')\n",
    "for i in tsena:\n",
    "  print(i.group())"
   ]
  },
  {
   "attachments": {},
   "cell_type": "markdown",
   "metadata": {},
   "source": [
    "Задача 6.\n",
    "\n",
    "Некоторые любят выделять особо важные места в тексте с помощью нижнего подчёркивания, например: \"...здесь _очень важно_ отметить...\" (дело в том, что нижние подчеркивания в некоторых редакторах автоматически превращаются в курсив).\n",
    "\n",
    "Ищем такие выделения, но не длиннее 5 слов."
   ]
  },
  {
   "cell_type": "code",
   "execution_count": null,
   "metadata": {},
   "outputs": [],
   "source": [
    "nizhpod = re.finditer(r'_(([a-zа-яё0-9]+\\W){1,4}[a-zа-яё0-9]+|[a-zа-яё0-9]+)_', 'здесь _очень важно_ отметить _очень_ _здесь очень важно_ _здесь очень важно очень важно_ _здесь здесь очень важно очень важно_', flags=re.I)\n",
    "for s in nizhpod:\n",
    "  print(s.group(1))"
   ]
  },
  {
   "attachments": {},
   "cell_type": "markdown",
   "metadata": {},
   "source": [
    "Задача 7.\n",
    "\n",
    "Найти в тексте все куски, которые взяты в круглые скобки. Считаем, что вложенных скобок нет."
   ]
  },
  {
   "cell_type": "code",
   "execution_count": null,
   "metadata": {},
   "outputs": [],
   "source": []
  },
  {
   "attachments": {},
   "cell_type": "markdown",
   "metadata": {},
   "source": [
    "Задача 8.\n",
    "\n",
    "В текстовом файле находятся пути к другим файлам. Каждый путь устроен таким образом, что у него обязательно есть расширение через точку, название собственно файла и как минимум папка, в которой он находится, например:\n",
    "\n",
    "myfolder/myfile.txt\n",
    "C:\\Python\\files\\script.py\n",
    "...\n",
    "\n",
    "Обратите внимание, что слеш может быть в любую сторону (в Windows он обратный, в Unix-системах прямой). Напишите такое регулярное выражение, которое будет в поиске re.findall возвращать кортежи вида ('все, что слева от имени файла', 'имя файла', 'расширение'). Для примеров:\n",
    "\n",
    "('myfolder', 'myfile', 'txt')\n",
    "('C:\\Python\\files', 'script', 'py')"
   ]
  },
  {
   "cell_type": "code",
   "execution_count": null,
   "metadata": {},
   "outputs": [],
   "source": [
    "re.findall(r'\\b([\\\\/:a-z]+)[\\\\/](\\w+)\\.(\\w+)', r'myfolder/myfile.txt C:\\Python\\files\\script.py', flags=re.I)"
   ]
  }
 ],
 "metadata": {
  "kernelspec": {
   "display_name": "Python 3",
   "language": "python",
   "name": "python3"
  },
  "language_info": {
   "name": "python",
   "version": "3.9.13"
  },
  "orig_nbformat": 4,
  "vscode": {
   "interpreter": {
    "hash": "949777d72b0d2535278d3dc13498b2535136f6dfe0678499012e853ee9abcab1"
   }
  }
 },
 "nbformat": 4,
 "nbformat_minor": 2
}
